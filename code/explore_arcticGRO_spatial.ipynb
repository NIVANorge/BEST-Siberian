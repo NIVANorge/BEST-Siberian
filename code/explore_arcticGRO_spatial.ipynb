{
 "cells": [
  {
   "cell_type": "code",
   "execution_count": 1,
   "id": "19676836-25d3-47a2-a04d-40af3245a834",
   "metadata": {},
   "outputs": [],
   "source": [
    "import geopandas as gpd\n",
    "import matplotlib.pyplot as plt\n",
    "import cartopy.crs as ccrs\n",
    "import nivapy3 as nivapy"
   ]
  },
  {
   "cell_type": "code",
   "execution_count": 3,
   "id": "8b9f1c44-791c-4bfe-a925-e31e540c02fb",
   "metadata": {},
   "outputs": [
    {
     "data": {
      "text/html": [
       "<div>\n",
       "<style scoped>\n",
       "    .dataframe tbody tr th:only-of-type {\n",
       "        vertical-align: middle;\n",
       "    }\n",
       "\n",
       "    .dataframe tbody tr th {\n",
       "        vertical-align: top;\n",
       "    }\n",
       "\n",
       "    .dataframe thead th {\n",
       "        text-align: right;\n",
       "    }\n",
       "</style>\n",
       "<table border=\"1\" class=\"dataframe\">\n",
       "  <thead>\n",
       "    <tr style=\"text-align: right;\">\n",
       "      <th></th>\n",
       "      <th>OBJECTID</th>\n",
       "      <th>name</th>\n",
       "      <th>Shape_Leng</th>\n",
       "      <th>Shape_Le_1</th>\n",
       "      <th>Shape_Le_2</th>\n",
       "      <th>sq_km</th>\n",
       "      <th>Shape_Le_3</th>\n",
       "      <th>Shape_Area</th>\n",
       "      <th>geometry</th>\n",
       "    </tr>\n",
       "  </thead>\n",
       "  <tbody>\n",
       "    <tr>\n",
       "      <th>0</th>\n",
       "      <td>2</td>\n",
       "      <td>Kolyma</td>\n",
       "      <td>0.0</td>\n",
       "      <td>0.0</td>\n",
       "      <td>7.707064e+06</td>\n",
       "      <td>723421</td>\n",
       "      <td>7.707064e+06</td>\n",
       "      <td>7.234212e+11</td>\n",
       "      <td>MULTIPOLYGON (((753471.524 2214871.236, 754507...</td>\n",
       "    </tr>\n",
       "    <tr>\n",
       "      <th>1</th>\n",
       "      <td>3</td>\n",
       "      <td>Lena</td>\n",
       "      <td>0.0</td>\n",
       "      <td>0.0</td>\n",
       "      <td>1.936122e+07</td>\n",
       "      <td>2759481</td>\n",
       "      <td>1.936122e+07</td>\n",
       "      <td>2.759481e+12</td>\n",
       "      <td>POLYGON ((1554094.836 1202116.600, 1555130.380...</td>\n",
       "    </tr>\n",
       "    <tr>\n",
       "      <th>2</th>\n",
       "      <td>4</td>\n",
       "      <td>Mackenzie</td>\n",
       "      <td>0.0</td>\n",
       "      <td>0.0</td>\n",
       "      <td>1.436904e+07</td>\n",
       "      <td>2016335</td>\n",
       "      <td>1.436904e+07</td>\n",
       "      <td>2.016335e+12</td>\n",
       "      <td>MULTIPOLYGON (((-3710985.188 2078450.011, -371...</td>\n",
       "    </tr>\n",
       "    <tr>\n",
       "      <th>3</th>\n",
       "      <td>5</td>\n",
       "      <td>Ob</td>\n",
       "      <td>0.0</td>\n",
       "      <td>0.0</td>\n",
       "      <td>1.723242e+07</td>\n",
       "      <td>3550906</td>\n",
       "      <td>1.723242e+07</td>\n",
       "      <td>3.550906e+12</td>\n",
       "      <td>POLYGON ((2807853.516 -982491.752, 2807922.414...</td>\n",
       "    </tr>\n",
       "    <tr>\n",
       "      <th>4</th>\n",
       "      <td>6</td>\n",
       "      <td>Yenisey</td>\n",
       "      <td>0.0</td>\n",
       "      <td>0.0</td>\n",
       "      <td>2.151203e+07</td>\n",
       "      <td>3056761</td>\n",
       "      <td>2.151203e+07</td>\n",
       "      <td>3.056761e+12</td>\n",
       "      <td>MULTIPOLYGON (((2722709.626 -228333.716, 27216...</td>\n",
       "    </tr>\n",
       "    <tr>\n",
       "      <th>5</th>\n",
       "      <td>7</td>\n",
       "      <td>Yukon</td>\n",
       "      <td>0.0</td>\n",
       "      <td>0.0</td>\n",
       "      <td>1.176129e+07</td>\n",
       "      <td>924851</td>\n",
       "      <td>1.176129e+07</td>\n",
       "      <td>9.248513e+11</td>\n",
       "      <td>MULTIPOLYGON (((-1698145.465 2533803.454, -169...</td>\n",
       "    </tr>\n",
       "  </tbody>\n",
       "</table>\n",
       "</div>"
      ],
      "text/plain": [
       "   OBJECTID       name  Shape_Leng  Shape_Le_1    Shape_Le_2    sq_km  \\\n",
       "0         2     Kolyma         0.0         0.0  7.707064e+06   723421   \n",
       "1         3       Lena         0.0         0.0  1.936122e+07  2759481   \n",
       "2         4  Mackenzie         0.0         0.0  1.436904e+07  2016335   \n",
       "3         5         Ob         0.0         0.0  1.723242e+07  3550906   \n",
       "4         6    Yenisey         0.0         0.0  2.151203e+07  3056761   \n",
       "5         7      Yukon         0.0         0.0  1.176129e+07   924851   \n",
       "\n",
       "     Shape_Le_3    Shape_Area  \\\n",
       "0  7.707064e+06  7.234212e+11   \n",
       "1  1.936122e+07  2.759481e+12   \n",
       "2  1.436904e+07  2.016335e+12   \n",
       "3  1.723242e+07  3.550906e+12   \n",
       "4  2.151203e+07  3.056761e+12   \n",
       "5  1.176129e+07  9.248513e+11   \n",
       "\n",
       "                                            geometry  \n",
       "0  MULTIPOLYGON (((753471.524 2214871.236, 754507...  \n",
       "1  POLYGON ((1554094.836 1202116.600, 1555130.380...  \n",
       "2  MULTIPOLYGON (((-3710985.188 2078450.011, -371...  \n",
       "3  POLYGON ((2807853.516 -982491.752, 2807922.414...  \n",
       "4  MULTIPOLYGON (((2722709.626 -228333.716, 27216...  \n",
       "5  MULTIPOLYGON (((-1698145.465 2533803.454, -169...  "
      ]
     },
     "execution_count": 3,
     "metadata": {},
     "output_type": "execute_result"
    }
   ],
   "source": [
    "# Large watersheds\n",
    "shp_path = r\"../ArcticGRO_spatial_data/ArcticGRO_large_watersheds.shp\"\n",
    "large_watersheds = gpd.read_file(shp_path)\n",
    "large_watersheds"
   ]
  },
  {
   "cell_type": "code",
   "execution_count": 7,
   "id": "280b68b1-0e6e-4741-9155-94160526ad60",
   "metadata": {},
   "outputs": [
    {
     "data": {
      "text/plain": [
       "<AxesSubplot:>"
      ]
     },
     "execution_count": 7,
     "metadata": {},
     "output_type": "execute_result"
    },
    {
     "data": {
      "image/png": "[encoded data removed]",
      "text/plain": [
       "<Figure size 432x288 with 1 Axes>"
      ]
     },
     "metadata": {
      "needs_background": "light"
     },
     "output_type": "display_data"
    }
   ],
   "source": [
    "# pan-arctic watershed\n",
    "\n",
    "# Line\n",
    "shp_path = r\"../ArcticGRO_spatial_data/new_pan_arctic_watershed.shp\"\n",
    "panarctic_line = gpd.read_file(shp_path)\n",
    "ax = panarctic_line.plot()\n",
    "\n",
    "# polygon\n",
    "pa_poly_path = r\"../ArcticGRO_spatial_data/new_pan_arctic_watershed_poly.shp\"\n",
    "panarctic_poly = gpd.read_file(pa_poly_path)\n",
    "panarctic_poly.plot(ax=ax)"
   ]
  },
  {
   "cell_type": "code",
   "execution_count": null,
   "id": "2a9e0fac-5f8d-4b5d-a887-f058b9cdb216",
   "metadata": {},
   "outputs": [],
   "source": []
  }
 ],
 "metadata": {
  "kernelspec": {
   "display_name": "Python 3 (ipykernel)",
   "language": "python",
   "name": "python3"
  },
  "language_info": {
   "codemirror_mode": {
    "name": "ipython",
    "version": 3
   },
   "file_extension": ".py",
   "mimetype": "text/x-python",
   "name": "python",
   "nbconvert_exporter": "python",
   "pygments_lexer": "ipython3",
   "version": "3.9.10"
  }
 },
 "nbformat": 4,
 "nbformat_minor": 5
}
