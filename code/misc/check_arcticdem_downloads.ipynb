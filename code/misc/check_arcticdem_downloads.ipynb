{
 "cells": [
  {
   "cell_type": "code",
   "execution_count": null,
   "id": "2f74e499-3787-4e5b-8d28-d10f1288c467",
   "metadata": {},
   "outputs": [],
   "source": [
    "import requests\n",
    "\n",
    "base_url = r\"https://data.pgc.umn.edu/elev/dem/setsm/ArcticDEM/mosaic/v3.0/32m/\"\n",
    "\n",
    "firsts = range(7, 82)\n",
    "lasts = range(1, 99)\n",
    "\n",
    "# number of bytes in a megabyte\n",
    "MBFACTOR = float(1 << 20)\n",
    "\n",
    "tot_mb = 0\n",
    "for first in firsts:\n",
    "    for last in lasts:\n",
    "        url = f\"{base_url}{first:02d}_{last:02d}/{first:02d}_{last:02d}_32m_v3.0.tar.gz\"\n",
    "        resp = requests.head(url)\n",
    "        if resp.ok:\n",
    "            size_mb = int(resp.headers.get(\"content-length\", 0)) / MBFACTOR\n",
    "            print(\"  \", url, \"\\t\", f\"{size_mb:.2f} MB\")\n",
    "            tot_mb += size_mb\n",
    "\n",
    "print(f\"Total size: {tot_mb:.2f} MB\")"
   ]
  }
 ],
 "metadata": {
  "kernelspec": {
   "display_name": "Python 3 (ipykernel)",
   "language": "python",
   "name": "python3"
  },
  "language_info": {
   "codemirror_mode": {
    "name": "ipython",
    "version": 3
   },
   "file_extension": ".py",
   "mimetype": "text/x-python",
   "name": "python",
   "nbconvert_exporter": "python",
   "pygments_lexer": "ipython3",
   "version": "3.9.10"
  }
 },
 "nbformat": 4,
 "nbformat_minor": 5
}
