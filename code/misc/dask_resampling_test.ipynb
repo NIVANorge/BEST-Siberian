{
 "cells": [
  {
   "cell_type": "code",
   "execution_count": null,
   "id": "7c6e96cc-b8e0-4722-88fc-0b7ba66729f9",
   "metadata": {},
   "outputs": [],
   "source": [
    "import dask\n",
    "import geopandas as gpd\n",
    "import xarray as xr\n",
    "from dask.distributed import Client\n",
    "\n",
    "dask.config.set({\"temporary_directory\": r\"/home/jovyan/shared/pan_arctic_data\"})"
   ]
  },
  {
   "cell_type": "code",
   "execution_count": null,
   "id": "a37cb271-7819-4447-9ac2-715634386547",
   "metadata": {},
   "outputs": [],
   "source": [
    "radr_pt_shp = f\"~/shared/pan_arctic_data/merit_hydro_basins/radr_outlets_merged.shp\"\n",
    "radr_pt_gdf = gpd.read_file(radr_pt_shp)\n",
    "cat_ids = radr_pt_gdf[\"OutCOMID\"].unique()\n",
    "cat_ids.sort()"
   ]
  },
  {
   "cell_type": "markdown",
   "id": "22763d7a-5b33-4fdf-9462-43df1c978858",
   "metadata": {},
   "source": [
    "## 1. Without Dask\n",
    "\n",
    "Takes about 17 mins."
   ]
  },
  {
   "cell_type": "code",
   "execution_count": null,
   "id": "5572a3f6-f432-4bc0-a8fe-a1e7ed6e4d84",
   "metadata": {},
   "outputs": [],
   "source": [
    "# %%time\n",
    "\n",
    "# radr_path = r\"/home/jovyan/shared/pan_arctic_data/discharge/RADR_v1.0.0.nc\"\n",
    "# radr_monthly_path = r\"/home/jovyan/shared/pan_arctic_data/discharge/RADR_v1_monthly_no_dask.nc\"\n",
    "\n",
    "# ds = xr.open_dataset(radr_path)\n",
    "# ds = ds.sel(reach=cat_ids)\n",
    "# ds = ds.resample(time=\"M\").mean()\n",
    "# ds.to_netcdf(radr_monthly_path)\n",
    "# ds"
   ]
  },
  {
   "cell_type": "code",
   "execution_count": null,
   "id": "d6cdfbd1-31fe-4c5b-bc72-dd5527df75e1",
   "metadata": {},
   "outputs": [],
   "source": [
    "#ds.close()"
   ]
  },
  {
   "cell_type": "markdown",
   "id": "59546aba-1772-459f-90c9-8327bf0d290f",
   "metadata": {},
   "source": [
    "## 2. With Dask\n",
    "\n",
    "Takes about 6 mins with 10 workers."
   ]
  },
  {
   "cell_type": "code",
   "execution_count": null,
   "id": "7e04da10-7087-4017-bfde-6e960cd97862",
   "metadata": {},
   "outputs": [],
   "source": [
    "# Note that 'memory_limit' is per worker, not for the whole cluster\n",
    "# i.e. n_workers=2 and memory_limit='6GB' => 12 GB total\n",
    "client = Client(n_workers=10, threads_per_worker=1, processes=True, memory_limit=\"1.5GB\")\n",
    "client"
   ]
  },
  {
   "cell_type": "code",
   "execution_count": null,
   "id": "3df62b51-d518-4491-b3a7-fa7268bd10ae",
   "metadata": {},
   "outputs": [],
   "source": [
    "%%time\n",
    "\n",
    "radr_path = r\"/home/jovyan/shared/pan_arctic_data/discharge/RADR_v1.0.0.nc\"\n",
    "radr_monthly_path = r\"/home/jovyan/shared/pan_arctic_data/discharge/RADR_v1_monthly_dask.nc\"\n",
    "ds = xr.open_dataset(radr_path)\n",
    "\n",
    "# Subset first without Dask, then chunk\n",
    "ds = ds.sel(reach=cat_ids)\n",
    "ds = ds.chunk(chunks='auto')\n",
    "ds = ds.resample(time=\"M\").mean()\n",
    "ds.to_netcdf(radr_monthly_path)\n",
    "ds"
   ]
  },
  {
   "cell_type": "code",
   "execution_count": null,
   "id": "8f002cc9-cef6-40a6-8ba3-a7749ff93f21",
   "metadata": {},
   "outputs": [],
   "source": [
    "ds.close()"
   ]
  }
 ],
 "metadata": {
  "kernelspec": {
   "display_name": "Python 3 (ipykernel)",
   "language": "python",
   "name": "python3"
  },
  "language_info": {
   "codemirror_mode": {
    "name": "ipython",
    "version": 3
   },
   "file_extension": ".py",
   "mimetype": "text/x-python",
   "name": "python",
   "nbconvert_exporter": "python",
   "pygments_lexer": "ipython3",
   "version": "3.9.10"
  }
 },
 "nbformat": 4,
 "nbformat_minor": 5
}
