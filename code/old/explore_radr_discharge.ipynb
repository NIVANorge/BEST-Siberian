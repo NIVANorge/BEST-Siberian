{
 "cells": [
  {
   "cell_type": "code",
   "execution_count": 1,
   "id": "259ebcf3-0900-4946-84c1-3b61fd8247b5",
   "metadata": {},
   "outputs": [],
   "source": [
    "import xarray as xr\n",
    "import geopandas as gpd\n",
    "import matplotlib.pyplot as plt\n",
    "import cartopy.crs as ccrs\n",
    "import nivapy3 as nivapy"
   ]
  },
  {
   "cell_type": "markdown",
   "id": "063ca111-5627-4da6-9168-17a4c570533f",
   "metadata": {},
   "source": [
    "# Intro\n",
    "\n",
    "Aim: prepare historic pan-Arctic discharge data for use in BEST-Siberian Arctic Ocean modelling.\n",
    "\n",
    "End goal is to estimate freshwater and water chemistry inputs to the Arctic Ocean over the period 1980-2019 on a 20 km grid. Monitoring data will be used where possible, probably just from ArcticGRO (largest Arctic rivers). For all other grid cells, use RADR discharge reanalysis data.\n",
    "\n",
    "Grid: the A20 (\"Arctic ocean 20 km resolution\") grid that Phil and Andre are already using, which is here: shared/pan_arctic_data/A20niva_grd_v1.nc"
   ]
  },
  {
   "cell_type": "markdown",
   "id": "43d711ba-4e1d-418e-9ae1-577d4437d9b5",
   "metadata": {},
   "source": [
    "# RADR data\n",
    "\n",
    "This is simulated discharge data for sub-catchments across the whole Arctic. Generated using two global hydrology models, and corrected using millions of remote sensing-derived discharge estimates. See Feng, D., Gleason, C.J., Lin, P., Yang, X., Pan, M., and Ishitsuka, Y., 2021, Recent changes to Arctic river discharge, Nature Communication."
   ]
  },
  {
   "cell_type": "code",
   "execution_count": null,
   "id": "f3233f2d-e29d-421d-98da-eae495e6cda9",
   "metadata": {},
   "outputs": [],
   "source": [
    "radr_path = r\"~/shared/pan_arctic_data/discharge/RADR_v1.0.0.nc\"\n",
    "ds = xr.open_dataset(radr_path)\n",
    "ds"
   ]
  },
  {
   "cell_type": "markdown",
   "id": "c295c44a-74ac-451e-b198-139b6e1a0704",
   "metadata": {},
   "source": [
    "## Read in MERIT-Hydro basins shapefiles\n",
    "\n",
    "The RADR 'reach' coordinate corresponds to basin IDs used in MERIT-Hydro. Therefore to get catchment and reach metadata for RADR, need to also load shapefiles from MERIT-Hydro. Two shapefiles are available, one with the catchment boundaries which includes areas, the other with the river network. The river network shapefile includes metadata on the spatial ordering of the catchments and upstream area.\n",
    "\n",
    "Basin IDs use the Pfafstetter numbering convention from HydroSHEDS/HydroBASINS, aside from the first 3 levels which were input manually to indicate the continent, major region and major river basin."
   ]
  },
  {
   "cell_type": "code",
   "execution_count": 3,
   "id": "e0c396b2-4c3e-417d-8d8d-a10a85eced42",
   "metadata": {},
   "outputs": [
    {
     "data": {
      "text/html": [
       "<div>\n",
       "<style scoped>\n",
       "    .dataframe tbody tr th:only-of-type {\n",
       "        vertical-align: middle;\n",
       "    }\n",
       "\n",
       "    .dataframe tbody tr th {\n",
       "        vertical-align: top;\n",
       "    }\n",
       "\n",
       "    .dataframe thead th {\n",
       "        text-align: right;\n",
       "    }\n",
       "</style>\n",
       "<table border=\"1\" class=\"dataframe\">\n",
       "  <thead>\n",
       "    <tr style=\"text-align: right;\">\n",
       "      <th></th>\n",
       "      <th>COMID</th>\n",
       "      <th>unitarea</th>\n",
       "      <th>geometry</th>\n",
       "    </tr>\n",
       "  </thead>\n",
       "  <tbody>\n",
       "    <tr>\n",
       "      <th>0</th>\n",
       "      <td>31000002</td>\n",
       "      <td>26.298253</td>\n",
       "      <td>POLYGON ((75.77375 73.52042, 75.77458 73.52042...</td>\n",
       "    </tr>\n",
       "    <tr>\n",
       "      <th>1</th>\n",
       "      <td>31000032</td>\n",
       "      <td>32.510215</td>\n",
       "      <td>POLYGON ((71.05625 73.45375, 71.06042 73.45375...</td>\n",
       "    </tr>\n",
       "    <tr>\n",
       "      <th>2</th>\n",
       "      <td>31000072</td>\n",
       "      <td>69.876275</td>\n",
       "      <td>POLYGON ((69.34625 72.57542, 69.34708 72.57542...</td>\n",
       "    </tr>\n",
       "    <tr>\n",
       "      <th>3</th>\n",
       "      <td>31000164</td>\n",
       "      <td>28.966191</td>\n",
       "      <td>POLYGON ((69.59542 72.01625, 69.59708 72.01625...</td>\n",
       "    </tr>\n",
       "    <tr>\n",
       "      <th>4</th>\n",
       "      <td>31000527</td>\n",
       "      <td>85.679412</td>\n",
       "      <td>POLYGON ((72.45708 71.03208, 72.46625 71.03208...</td>\n",
       "    </tr>\n",
       "  </tbody>\n",
       "</table>\n",
       "</div>"
      ],
      "text/plain": [
       "      COMID   unitarea                                           geometry\n",
       "0  31000002  26.298253  POLYGON ((75.77375 73.52042, 75.77458 73.52042...\n",
       "1  31000032  32.510215  POLYGON ((71.05625 73.45375, 71.06042 73.45375...\n",
       "2  31000072  69.876275  POLYGON ((69.34625 72.57542, 69.34708 72.57542...\n",
       "3  31000164  28.966191  POLYGON ((69.59542 72.01625, 69.59708 72.01625...\n",
       "4  31000527  85.679412  POLYGON ((72.45708 71.03208, 72.46625 71.03208..."
      ]
     },
     "execution_count": 3,
     "metadata": {},
     "output_type": "execute_result"
    }
   ],
   "source": [
    "cat_shp_path = r\"~/shared/pan_arctic_data/merit_hydro_basins/cat_pfaf_3_MERIT_Hydro_v07_Basins_v01.shp\"\n",
    "merit_cat_gdf = gpd.read_file(cat_shp_path)\n",
    "merit_cat_gdf.set_index('COMID', inplace=True)\n",
    "merit_cat_gdf.head()"
   ]
  },
  {
   "cell_type": "code",
   "execution_count": 14,
   "id": "e0868d50-7dea-471d-a2f3-74d71ecd3c40",
   "metadata": {},
   "outputs": [
    {
     "data": {
      "text/html": [
       "<div>\n",
       "<style scoped>\n",
       "    .dataframe tbody tr th:only-of-type {\n",
       "        vertical-align: middle;\n",
       "    }\n",
       "\n",
       "    .dataframe tbody tr th {\n",
       "        vertical-align: top;\n",
       "    }\n",
       "\n",
       "    .dataframe thead th {\n",
       "        text-align: right;\n",
       "    }\n",
       "</style>\n",
       "<table border=\"1\" class=\"dataframe\">\n",
       "  <thead>\n",
       "    <tr style=\"text-align: right;\">\n",
       "      <th></th>\n",
       "      <th>COMID</th>\n",
       "      <th>lengthkm</th>\n",
       "      <th>lengthdir</th>\n",
       "      <th>sinuosity</th>\n",
       "      <th>slope</th>\n",
       "      <th>uparea</th>\n",
       "      <th>order</th>\n",
       "      <th>strmDrop_t</th>\n",
       "      <th>slope_taud</th>\n",
       "      <th>NextDownID</th>\n",
       "      <th>maxup</th>\n",
       "      <th>up1</th>\n",
       "      <th>up2</th>\n",
       "      <th>up3</th>\n",
       "      <th>up4</th>\n",
       "      <th>geometry</th>\n",
       "    </tr>\n",
       "  </thead>\n",
       "  <tbody>\n",
       "    <tr>\n",
       "      <th>0</th>\n",
       "      <td>31000001</td>\n",
       "      <td>5.708578</td>\n",
       "      <td>4.262756</td>\n",
       "      <td>1.339175</td>\n",
       "      <td>0.000175</td>\n",
       "      <td>NaN</td>\n",
       "      <td>1</td>\n",
       "      <td>0.0</td>\n",
       "      <td>0.000000</td>\n",
       "      <td>0</td>\n",
       "      <td>0</td>\n",
       "      <td>0</td>\n",
       "      <td>0</td>\n",
       "      <td>0</td>\n",
       "      <td>0</td>\n",
       "      <td>LINESTRING (79.30500 74.62500, 79.30417 74.625...</td>\n",
       "    </tr>\n",
       "    <tr>\n",
       "      <th>1</th>\n",
       "      <td>31000002</td>\n",
       "      <td>1.082424</td>\n",
       "      <td>0.652633</td>\n",
       "      <td>1.658550</td>\n",
       "      <td>0.001012</td>\n",
       "      <td>26.298253</td>\n",
       "      <td>1</td>\n",
       "      <td>1.1</td>\n",
       "      <td>0.001012</td>\n",
       "      <td>0</td>\n",
       "      <td>0</td>\n",
       "      <td>0</td>\n",
       "      <td>0</td>\n",
       "      <td>0</td>\n",
       "      <td>0</td>\n",
       "      <td>LINESTRING (75.87167 73.51917, 75.87083 73.519...</td>\n",
       "    </tr>\n",
       "    <tr>\n",
       "      <th>2</th>\n",
       "      <td>31000003</td>\n",
       "      <td>7.313123</td>\n",
       "      <td>4.688106</td>\n",
       "      <td>1.559931</td>\n",
       "      <td>0.000163</td>\n",
       "      <td>35.828614</td>\n",
       "      <td>1</td>\n",
       "      <td>1.2</td>\n",
       "      <td>0.000163</td>\n",
       "      <td>0</td>\n",
       "      <td>0</td>\n",
       "      <td>0</td>\n",
       "      <td>0</td>\n",
       "      <td>0</td>\n",
       "      <td>0</td>\n",
       "      <td>LINESTRING (74.69167 73.02083, 74.69083 73.020...</td>\n",
       "    </tr>\n",
       "    <tr>\n",
       "      <th>3</th>\n",
       "      <td>31000004</td>\n",
       "      <td>1.156125</td>\n",
       "      <td>0.896205</td>\n",
       "      <td>1.290023</td>\n",
       "      <td>0.000345</td>\n",
       "      <td>201.502489</td>\n",
       "      <td>2</td>\n",
       "      <td>0.4</td>\n",
       "      <td>0.000345</td>\n",
       "      <td>0</td>\n",
       "      <td>2</td>\n",
       "      <td>31000019</td>\n",
       "      <td>31000027</td>\n",
       "      <td>0</td>\n",
       "      <td>0</td>\n",
       "      <td>LINESTRING (71.08833 73.33583, 71.08750 73.336...</td>\n",
       "    </tr>\n",
       "    <tr>\n",
       "      <th>4</th>\n",
       "      <td>31000005</td>\n",
       "      <td>20.855677</td>\n",
       "      <td>8.653933</td>\n",
       "      <td>2.409965</td>\n",
       "      <td>0.000139</td>\n",
       "      <td>218.892441</td>\n",
       "      <td>2</td>\n",
       "      <td>2.9</td>\n",
       "      <td>0.000139</td>\n",
       "      <td>0</td>\n",
       "      <td>2</td>\n",
       "      <td>31000014</td>\n",
       "      <td>31000015</td>\n",
       "      <td>0</td>\n",
       "      <td>0</td>\n",
       "      <td>LINESTRING (71.27667 73.23750, 71.27583 73.236...</td>\n",
       "    </tr>\n",
       "  </tbody>\n",
       "</table>\n",
       "</div>"
      ],
      "text/plain": [
       "      COMID   lengthkm  lengthdir  sinuosity     slope      uparea  order  \\\n",
       "0  31000001   5.708578   4.262756   1.339175  0.000175         NaN      1   \n",
       "1  31000002   1.082424   0.652633   1.658550  0.001012   26.298253      1   \n",
       "2  31000003   7.313123   4.688106   1.559931  0.000163   35.828614      1   \n",
       "3  31000004   1.156125   0.896205   1.290023  0.000345  201.502489      2   \n",
       "4  31000005  20.855677   8.653933   2.409965  0.000139  218.892441      2   \n",
       "\n",
       "   strmDrop_t  slope_taud  NextDownID  maxup       up1       up2  up3  up4  \\\n",
       "0         0.0    0.000000           0      0         0         0    0    0   \n",
       "1         1.1    0.001012           0      0         0         0    0    0   \n",
       "2         1.2    0.000163           0      0         0         0    0    0   \n",
       "3         0.4    0.000345           0      2  31000019  31000027    0    0   \n",
       "4         2.9    0.000139           0      2  31000014  31000015    0    0   \n",
       "\n",
       "                                            geometry  \n",
       "0  LINESTRING (79.30500 74.62500, 79.30417 74.625...  \n",
       "1  LINESTRING (75.87167 73.51917, 75.87083 73.519...  \n",
       "2  LINESTRING (74.69167 73.02083, 74.69083 73.020...  \n",
       "3  LINESTRING (71.08833 73.33583, 71.08750 73.336...  \n",
       "4  LINESTRING (71.27667 73.23750, 71.27583 73.236...  "
      ]
     },
     "execution_count": 14,
     "metadata": {},
     "output_type": "execute_result"
    }
   ],
   "source": [
    "riv_shp_path = r\"~/shared/pan_arctic_data/merit_hydro_basins/riv_pfaf_3_MERIT_Hydro_v07_Basins_v01.shp\"\n",
    "merit_riv_gdf = gpd.read_file(riv_shp_path)\n",
    "merit_riv_gdf.set_index('COMID', inplace=True)\n",
    "merit_riv_gdf.head()"
   ]
  },
  {
   "cell_type": "markdown",
   "id": "2be29c78-2ec5-47b9-ba0b-d37c088111d2",
   "metadata": {},
   "source": [
    "## Look at intersection of basin IDs and general QC\n",
    "\n",
    "Find that RADR and MERIT reach/COMIDs are overlapping, i.e. MERIT COMIDs correspond to RADR reach IDs. Yay!\n",
    "\n",
    "E.g. for Siberia (region 3), see that there is one more river ID than there is a catchment ID. That's weird, as can't have a river without a catchment?? Need to look into"
   ]
  },
  {
   "cell_type": "code",
   "execution_count": 32,
   "id": "8bb5efd0-360e-4239-8e00-85e8a15163f7",
   "metadata": {},
   "outputs": [
    {
     "name": "stdout",
     "output_type": "stream",
     "text": [
      "288612 288613\n"
     ]
    }
   ],
   "source": [
    "print(len(merit_cat_ids), len(merit_riv_ids))"
   ]
  },
  {
   "cell_type": "code",
   "execution_count": 30,
   "id": "e1d1b57b-c30d-4966-862e-dc6028063df9",
   "metadata": {},
   "outputs": [],
   "source": [
    "merit_cat_ids = set(merit_cat_gdf.index.astype(int).unique())\n",
    "merit_riv_ids = set(merit_riv_gdf.index.astype(int).unique())\n",
    "radr_ids = set(list(ds['reach'].data.astype(int)))"
   ]
  },
  {
   "cell_type": "code",
   "execution_count": 29,
   "id": "77e1210c-4748-4d28-a041-7b62035a0db4",
   "metadata": {},
   "outputs": [
    {
     "name": "stdout",
     "output_type": "stream",
     "text": [
      "265060 23552\n"
     ]
    }
   ],
   "source": [
    "# How many MERIT catchment IDs are in RADR and how many are not?\n",
    "cat_intersect = len(merit_cat_ids.intersection(radr_ids))\n",
    "cat_not_intersect = len(merit_cat_ids - radr_ids)\n",
    "print(cat_intersect, cat_not_intersect)\n",
    "assert cat_intersect + cat_not_intersect == len(merit_cat_ids)"
   ]
  },
  {
   "cell_type": "code",
   "execution_count": 31,
   "id": "f0d71f81-af35-444d-8969-4838ac05016d",
   "metadata": {},
   "outputs": [
    {
     "name": "stdout",
     "output_type": "stream",
     "text": [
      "265060 23553\n"
     ]
    }
   ],
   "source": [
    "# How many MERIT river IDs are in RADR and how many are not?\n",
    "riv_intersect = len(merit_riv_ids.intersection(radr_ids))\n",
    "riv_not_intersect = len(merit_riv_ids - radr_ids)\n",
    "print(riv_intersect, riv_not_intersect)\n",
    "assert riv_intersect + riv_not_intersect == len(merit_riv_ids)"
   ]
  },
  {
   "cell_type": "code",
   "execution_count": 33,
   "id": "43fd4bb5-0c12-451b-b639-277dec50d49e",
   "metadata": {},
   "outputs": [],
   "source": [
    "intersect_cat_ids = list(merit_cat_ids.intersection(radr_ids))\n",
    "intersect_riv_ids = list(merit_riv_ids.intersection(radr_ids))"
   ]
  },
  {
   "cell_type": "markdown",
   "id": "213878e9-1949-4ebb-a03b-06d0bc24772c",
   "metadata": {},
   "source": [
    "# Quick plot of a small portion to see if looks sensible\n",
    "\n",
    "Pfafstetter splits major catchments into 9 subcatchments, and same again for each subcatchment, with a minimum size threshold. Therefore pick 1-9 from the last COMID digit (or order) and see whether they're nested subcatchments."
   ]
  },
  {
   "cell_type": "code",
   "execution_count": 36,
   "id": "641a2238-c6d3-4388-8b35-8e3166b9c851",
   "metadata": {},
   "outputs": [
    {
     "data": {
      "text/plain": [
       "[32000001,\n",
       " 32000002,\n",
       " 32000003,\n",
       " 32000004,\n",
       " 32000005,\n",
       " 32000006,\n",
       " 32000007,\n",
       " 32000008,\n",
       " 32000009]"
      ]
     },
     "execution_count": 36,
     "metadata": {},
     "output_type": "execute_result"
    }
   ],
   "source": [
    "test_ids = intersect_cat_ids[:9]\n",
    "test_ids"
   ]
  },
  {
   "cell_type": "code",
   "execution_count": 43,
   "id": "1ea59784-6347-4641-b6d6-47418950e8ed",
   "metadata": {},
   "outputs": [
    {
     "data": {
      "text/plain": [
       "<AxesSubplot:>"
      ]
     },
     "execution_count": 43,
     "metadata": {},
     "output_type": "execute_result"
    },
    {
     "data": {
      "image/png": "[encoded data removed]",
      "text/plain": [
       "<Figure size 864x864 with 1 Axes>"
      ]
     },
     "metadata": {
      "needs_background": "light"
     },
     "output_type": "display_data"
    }
   ],
   "source": [
    "ax = merit_cat_gdf.loc[test_ids,:].boundary.plot(color='green', figsize=(12,12))\n",
    "merit_riv_gdf.loc[test_ids,:].plot(color='blue', ax=ax)"
   ]
  },
  {
   "cell_type": "markdown",
   "id": "7f280947-504d-42b7-acc0-27594a0ea381",
   "metadata": {},
   "source": [
    "Looks reasonable, except not sure what is happening with catchment 1. I guess it is an island, as it has no upstream or downstream area. If drop that, things look nicer:"
   ]
  },
  {
   "cell_type": "code",
   "execution_count": 46,
   "id": "6e7b59e1-47a7-49a0-a96b-190df782e0bb",
   "metadata": {},
   "outputs": [
    {
     "data": {
      "text/plain": [
       "<AxesSubplot:>"
      ]
     },
     "execution_count": 46,
     "metadata": {},
     "output_type": "execute_result"
    },
    {
     "data": {
      "image/png": "[encoded data removed]",
      "text/plain": [
       "<Figure size 864x864 with 1 Axes>"
      ]
     },
     "metadata": {
      "needs_background": "light"
     },
     "output_type": "display_data"
    }
   ],
   "source": [
    "test_ids = intersect_cat_ids[1:9]\n",
    "ax = merit_cat_gdf.loc[test_ids,:].boundary.plot(color='green', figsize=(12,12))\n",
    "merit_riv_gdf.loc[test_ids,:].plot(color='blue', ax=ax)"
   ]
  },
  {
   "cell_type": "markdown",
   "id": "da7f10a0-ca5b-4f20-a58b-d185d896f572",
   "metadata": {},
   "source": [
    "# Next steps\n",
    "\n",
    "## RADR data:\n",
    "* Calculate monthly means from daily. This is what we will use, rather than daily.\n",
    "\n",
    "## MERIT/RADR data:\n",
    "* Have downloaded MERIT data (catchment and river shapefiles) for regions 2 (Europe), 3 (Siberia) and 8 (Arctic North America). Expect most of the basins in regions 3 and 8 to overlap with RADR. However, much of region 2 (Europe) will be outside RADR. In the future, may also want to download Greenland (Region 9), although this is not in RADR.\n",
    "* For each region: discard any features where COMID is not in RADR\n",
    "* Stitch the 3 regions together into one pan-Arctic strip?\n",
    "* Identify \"river to sea\" catchments\n",
    "* Associate \"river to sea\" catchments with appropriate grid square in A20 grid, and set runoff time series for that grid square\n",
    "* Derive shapefiles for river-to-sea catchment boundaries. i.e. dissolve/join sub-catchments within the same bigger river network. Not sure how to do this - maybe using the Pfafstetter numbering?\n",
    "* Derive a shapefile for the whole Arctic Ocean catchment used by RADR, by merging all MERIT-RADR catchments\n",
    "\n",
    "## ArcticGRO observed discharge data:\n",
    "* Have downloaded data: r'../discharge/ArcticGRO/data'\n",
    "* Locations of discharge sampling sites: r'../ArcticGRO_spatial_data/sampling_locations_discharge.csv'\n",
    "* Associate sampling point with RADR basin\n",
    "* If Q is measured a long way up-stream of the outflow to the sea, then area-scale measured Q to estimate Q at outflow. Leah to do: find estimates of catchment areas for ArcticGRO monitoring points and add to sampling_locations_discharge.csv\n",
    "* Leah working on cleaning the time series (interpolating small gaps, generating just one time series where several gauges are available on the same river).\n",
    "* Once have clean monthly time series for each ArcticGRO site: replace RADR data for the A20 grid square with observed Q time series.\n",
    "\n",
    "## Extras\n",
    "* Use derived river-to-sea catchment boundaries, plus lots of nice spatial data, to calculate catchment properties. Need to gather the data, but hopefully including things like slope, elevation, permafrost extent, land cover, soil C store, climate.\n",
    "* Stats between observed discharge and chem and catchment properties. Look at possible drivers of spatial and temporal differences/trends, and then hopefully to extrapolate observations spatially and maybe temporally."
   ]
  }
 ],
 "metadata": {
  "kernelspec": {
   "display_name": "Python 3 (ipykernel)",
   "language": "python",
   "name": "python3"
  },
  "language_info": {
   "codemirror_mode": {
    "name": "ipython",
    "version": 3
   },
   "file_extension": ".py",
   "mimetype": "text/x-python",
   "name": "python",
   "nbconvert_exporter": "python",
   "pygments_lexer": "ipython3",
   "version": "3.9.10"
  }
 },
 "nbformat": 4,
 "nbformat_minor": 5
}
